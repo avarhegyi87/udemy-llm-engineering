{
 "cells": [
  {
   "cell_type": "markdown",
   "id": "d15d8294-3328-4e07-ad16-8a03e9bbfdb9",
   "metadata": {},
   "source": [
    "# YOUR FIRST LAB\n",
    "### Please read this section. This is valuable to get you prepared, even if it's a long read -- it's important stuff.\n",
    "\n",
    "## Your first Frontier LLM Project\n",
    "\n",
    "Let's build a useful LLM solution - in a matter of minutes.\n",
    "\n",
    "By the end of this course, you will have built an autonomous Agentic AI solution with 7 agents that collaborate to solve a business problem. All in good time! We will start with something smaller...\n",
    "\n",
    "Our goal is to code a new kind of Web Browser. Give it a URL, and it will respond with a summary. The Reader's Digest of the internet!!\n",
    "\n",
    "Before starting, you should have completed the setup for [PC](../SETUP-PC.md) or [Mac](../SETUP-mac.md) and you hopefully launched this jupyter lab from within the project root directory, with your environment activated.\n",
    "\n",
    "## If you're new to Jupyter Lab\n",
    "\n",
    "Welcome to the wonderful world of Data Science experimentation! Once you've used Jupyter Lab, you'll wonder how you ever lived without it. Simply click in each \"cell\" with code in it, such as the cell immediately below this text, and hit Shift+Return to execute that cell. As you wish, you can add a cell with the + button in the toolbar, and print values of variables, or try out variations.  \n",
    "\n",
    "I've written a notebook called [Guide to Jupyter](Guide%20to%20Jupyter.ipynb) to help you get more familiar with Jupyter Labs, including adding Markdown comments, using `!` to run shell commands, and `tqdm` to show progress.\n",
    "\n",
    "## If you're new to the Command Line\n",
    "\n",
    "Please see these excellent guides: [Command line on PC](https://chatgpt.com/share/67b0acea-ba38-8012-9c34-7a2541052665) and [Command line on Mac](https://chatgpt.com/canvas/shared/67b0b10c93a081918210723867525d2b).  \n",
    "\n",
    "## If you'd prefer to work in IDEs\n",
    "\n",
    "If you're more comfortable in IDEs like VSCode, Cursor or PyCharm, they both work great with these lab notebooks too.  \n",
    "If you'd prefer to work in VSCode, [here](https://chatgpt.com/share/676f2e19-c228-8012-9911-6ca42f8ed766) are instructions from an AI friend on how to configure it for the course.\n",
    "\n",
    "## If you'd like to brush up your Python\n",
    "\n",
    "I've added a notebook called [Intermediate Python](Intermediate%20Python.ipynb) to get you up to speed. But you should give it a miss if you already have a good idea what this code does:    \n",
    "`yield from {book.get(\"author\") for book in books if book.get(\"author\")}`\n",
    "\n",
    "## I am here to help\n",
    "\n",
    "If you have any problems at all, please do reach out.  \n",
    "I'm available through the platform, or at ed@edwarddonner.com, or at https://www.linkedin.com/in/eddonner/ if you'd like to connect (and I love connecting!)  \n",
    "And this is new to me, but I'm also trying out X/Twitter at [@edwarddonner](https://x.com/edwarddonner) - if you're on X, please show me how it's done 😂  \n",
    "\n",
    "## More troubleshooting\n",
    "\n",
    "Please see the [troubleshooting](troubleshooting.ipynb) notebook in this folder to diagnose and fix common problems. At the very end of it is a diagnostics script with some useful debug info.\n",
    "\n",
    "## For foundational technical knowledge (eg Git, APIs, debugging) \n",
    "\n",
    "If you're relatively new to programming -- I've got your back! While it's ideal to have some programming experience for this course, there's only one mandatory prerequisite: plenty of patience. 😁 I've put together a set of self-study guides that cover Git and GitHub, APIs and endpoints, beginner python and more.\n",
    "\n",
    "This covers Git and GitHub; what they are, the difference, and how to use them:  \n",
    "https://github.com/ed-donner/agents/blob/main/guides/03_git_and_github.ipynb\n",
    "\n",
    "This covers technical foundations:  \n",
    "ChatGPT vs API; taking screenshots; Environment Variables; Networking basics; APIs and endpoints:  \n",
    "https://github.com/ed-donner/agents/blob/main/guides/04_technical_foundations.ipynb\n",
    "\n",
    "This covers Python for beginners, and making sure that a `NameError` never trips you up:  \n",
    "https://github.com/ed-donner/agents/blob/main/guides/06_python_foundations.ipynb\n",
    "\n",
    "This covers the essential techniques for figuring out errors:  \n",
    "https://github.com/ed-donner/agents/blob/main/guides/08_debugging.ipynb\n",
    "\n",
    "And you'll find other useful guides in the same folder in GitHub. Some information applies to my other Udemy course (eg Async Python) but most of it is very relevant for LLM engineering.\n",
    "\n",
    "## If this is old hat!\n",
    "\n",
    "If you're already comfortable with today's material, please hang in there; you can move swiftly through the first few labs - we will get much more in depth as the weeks progress. Ultimately we will fine-tune our own LLM to compete with OpenAI!\n",
    "\n",
    "<table style=\"margin: 0; text-align: left;\">\n",
    "    <tr>\n",
    "        <td style=\"width: 150px; height: 150px; vertical-align: middle;\">\n",
    "            <img src=\"../important.jpg\" width=\"150\" height=\"150\" style=\"display: block;\" />\n",
    "        </td>\n",
    "        <td>\n",
    "            <h2 style=\"color:#900;\">Please read - important note</h2>\n",
    "            <span style=\"color:#900;\">The way I collaborate with you may be different to other courses you've taken. I prefer not to type code while you watch. Rather, I execute Jupyter Labs, like this, and give you an intuition for what's going on. My suggestion is that you carefully execute this yourself, <b>after</b> watching the lecture. Add print statements to understand what's going on, and then come up with your own variations. If you have a Github account, use this to showcase your variations. Not only is this essential practice, but it demonstrates your skills to others, including perhaps future clients or employers...</span>\n",
    "        </td>\n",
    "    </tr>\n",
    "</table>\n",
    "<table style=\"margin: 0; text-align: left;\">\n",
    "    <tr>\n",
    "        <td style=\"width: 150px; height: 150px; vertical-align: middle;\">\n",
    "            <img src=\"../resources.jpg\" width=\"150\" height=\"150\" style=\"display: block;\" />\n",
    "        </td>\n",
    "        <td>\n",
    "            <h2 style=\"color:#f71;\">This code is a live resource - keep an eye out for my emails</h2>\n",
    "            <span style=\"color:#f71;\">I push updates to the code regularly. As people ask questions, I add more examples or improved commentary. As a result, you'll notice that the code below isn't identical to the videos. Everything from the videos is here; but I've also added better explanations and new models like DeepSeek. Consider this like an interactive book.<br/><br/>\n",
    "                I try to send emails regularly with important updates related to the course. You can find this in the 'Announcements' section of Udemy in the left sidebar. You can also choose to receive my emails via your Notification Settings in Udemy. I'm respectful of your inbox and always try to add value with my emails!\n",
    "            </span>\n",
    "        </td>\n",
    "    </tr>\n",
    "</table>\n",
    "<table style=\"margin: 0; text-align: left;\">\n",
    "    <tr>\n",
    "        <td style=\"width: 150px; height: 150px; vertical-align: middle;\">\n",
    "            <img src=\"../business.jpg\" width=\"150\" height=\"150\" style=\"display: block;\" />\n",
    "        </td>\n",
    "        <td>\n",
    "            <h2 style=\"color:#181;\">Business value of these exercises</h2>\n",
    "            <span style=\"color:#181;\">A final thought. While I've designed these notebooks to be educational, I've also tried to make them enjoyable. We'll do fun things like have LLMs tell jokes and argue with each other. But fundamentally, my goal is to teach skills you can apply in business. I'll explain business implications as we go, and it's worth keeping this in mind: as you build experience with models and techniques, think of ways you could put this into action at work today. Please do contact me if you'd like to discuss more or if you have ideas to bounce off me.</span>\n",
    "        </td>\n",
    "    </tr>\n",
    "</table>"
   ]
  },
  {
   "cell_type": "code",
   "execution_count": 1,
   "id": "4e2a9393-7767-488e-a8bf-27c12dca35bd",
   "metadata": {},
   "outputs": [],
   "source": [
    "# imports\n",
    "\n",
    "import os\n",
    "import requests\n",
    "from dotenv import load_dotenv\n",
    "from bs4 import BeautifulSoup\n",
    "from IPython.display import Markdown, display\n",
    "from openai import OpenAI\n",
    "\n",
    "# If you get an error running this cell, then please head over to the troubleshooting notebook!"
   ]
  },
  {
   "cell_type": "markdown",
   "id": "6900b2a8-6384-4316-8aaa-5e519fca4254",
   "metadata": {},
   "source": [
    "# Connecting to OpenAI (or Ollama)\n",
    "\n",
    "The next cell is where we load in the environment variables in your `.env` file and connect to OpenAI.  \n",
    "\n",
    "If you'd like to use free Ollama instead, please see the README section \"Free Alternative to Paid APIs\", and if you're not sure how to do this, there's a full solution in the solutions folder (day1_with_ollama.ipynb).\n",
    "\n",
    "## Troubleshooting if you have problems:\n",
    "\n",
    "Head over to the [troubleshooting](troubleshooting.ipynb) notebook in this folder for step by step code to identify the root cause and fix it!\n",
    "\n",
    "If you make a change, try restarting the \"Kernel\" (the python process sitting behind this notebook) by Kernel menu >> Restart Kernel and Clear Outputs of All Cells. Then try this notebook again, starting at the top.\n",
    "\n",
    "Or, contact me! Message me or email ed@edwarddonner.com and we will get this to work.\n",
    "\n",
    "Any concerns about API costs? See my notes in the README - costs should be minimal, and you can control it at every point. You can also use Ollama as a free alternative, which we discuss during Day 2."
   ]
  },
  {
   "cell_type": "code",
   "execution_count": 2,
   "id": "7b87cadb-d513-4303-baee-a37b6f938e4d",
   "metadata": {},
   "outputs": [
    {
     "name": "stdout",
     "output_type": "stream",
     "text": [
      "API key found and looks good so far!\n"
     ]
    }
   ],
   "source": [
    "# Load environment variables in a file called .env\n",
    "\n",
    "load_dotenv(override=True)\n",
    "api_key = os.getenv('OPENAI_API_KEY')\n",
    "\n",
    "# Check the key\n",
    "\n",
    "if not api_key:\n",
    "    print(\"No API key was found - please head over to the troubleshooting notebook in this folder to identify & fix!\")\n",
    "elif not api_key.startswith(\"sk-proj-\"):\n",
    "    print(\"An API key was found, but it doesn't start sk-proj-; please check you're using the right key - see troubleshooting notebook\")\n",
    "elif api_key.strip() != api_key:\n",
    "    print(\"An API key was found, but it looks like it might have space or tab characters at the start or end - please remove them - see troubleshooting notebook\")\n",
    "else:\n",
    "    print(\"API key found and looks good so far!\")\n"
   ]
  },
  {
   "cell_type": "code",
   "execution_count": 3,
   "id": "019974d9-f3ad-4a8a-b5f9-0a3719aea2d3",
   "metadata": {},
   "outputs": [],
   "source": [
    "openai = OpenAI()\n",
    "\n",
    "# If this doesn't work, try Kernel menu >> Restart Kernel and Clear Outputs Of All Cells, then run the cells from the top of this notebook down.\n",
    "# If it STILL doesn't work (horrors!) then please see the Troubleshooting notebook in this folder for full instructions"
   ]
  },
  {
   "cell_type": "markdown",
   "id": "442fc84b-0815-4f40-99ab-d9a5da6bda91",
   "metadata": {},
   "source": [
    "# Let's make a quick call to a Frontier model to get started, as a preview!"
   ]
  },
  {
   "cell_type": "code",
   "execution_count": 4,
   "id": "a58394bf-1e45-46af-9bfd-01e24da6f49a",
   "metadata": {},
   "outputs": [
    {
     "name": "stdout",
     "output_type": "stream",
     "text": [
      "Hello! Welcome! I’m glad you’re here. How can I assist you today?\n"
     ]
    }
   ],
   "source": [
    "# To give you a preview -- calling OpenAI with these messages is this easy. Any problems, head over to the Troubleshooting notebook.\n",
    "\n",
    "message = \"Hello, GPT! This is my first ever message to you! Hi!\"\n",
    "response = openai.chat.completions.create(model=\"gpt-4o-mini\", messages=[{\"role\":\"user\", \"content\":message}])\n",
    "print(response.choices[0].message.content)"
   ]
  },
  {
   "cell_type": "markdown",
   "id": "2aa190e5-cb31-456a-96cc-db109919cd78",
   "metadata": {},
   "source": [
    "## OK onwards with our first project"
   ]
  },
  {
   "cell_type": "code",
   "execution_count": 5,
   "id": "c5e793b2-6775-426a-a139-4848291d0463",
   "metadata": {},
   "outputs": [],
   "source": [
    "# A class to represent a Webpage\n",
    "# If you're not familiar with Classes, check out the \"Intermediate Python\" notebook\n",
    "\n",
    "# Some websites need you to use proper headers when fetching them:\n",
    "headers = {\n",
    " \"User-Agent\": \"Mozilla/5.0 (Windows NT 10.0; Win64; x64) AppleWebKit/537.36 (KHTML, like Gecko) Chrome/117.0.0.0 Safari/537.36\"\n",
    "}\n",
    "\n",
    "class Website:\n",
    "\n",
    "    def __init__(self, url):\n",
    "        \"\"\"\n",
    "        Create this Website object from the given url using the BeautifulSoup library\n",
    "        \"\"\"\n",
    "        self.url = url\n",
    "        response = requests.get(url, headers=headers)\n",
    "        soup = BeautifulSoup(response.content, 'html.parser')\n",
    "        self.title = soup.title.string if soup.title else \"No title found\"\n",
    "        for irrelevant in soup.body([\"script\", \"style\", \"img\", \"input\"]):\n",
    "            irrelevant.decompose()\n",
    "        self.text = soup.body.get_text(separator=\"\\n\", strip=True)"
   ]
  },
  {
   "cell_type": "code",
   "execution_count": 6,
   "id": "2ef960cf-6dc2-4cda-afb3-b38be12f4c97",
   "metadata": {},
   "outputs": [
    {
     "name": "stdout",
     "output_type": "stream",
     "text": [
      "IBM\n",
      "Put AI to work today\n",
      "Automate real workflows with prebuilt agents for sales and procurement or build your own with our new no-code tools and capabilities\n",
      "Explore what’s new\n",
      "Learn about AI agents\n",
      "Latest news\n",
      "Deutsche Telekom Selects IBM Concert to Accelerate IT Processes with AI-Powered Automation\n",
      "Parsons Corporation is Ready Now to Build America’s Brand New, State Of-The-Art Air Traffic Control System\n",
      "IBM and RIKEN Unveil First IBM Quantum System Two Outside of the U.S.\n",
      "IBM Introduces Industry-First Software to Unify Agentic Governance and Security\n",
      "IBM Study: Profit-Driven CMOs See AI as Growth Driver, but Operational Hurdles Slow Them Down\n",
      "The All England Lawn Tennis Club and IBM Launch New AI Features for Real-Time Wimbledon Fan Engagement\n",
      "IBM Study: Businesses View AI Agents as Essential, Not Just Experimental\n",
      "IBM Sets the Course to Build World's First Large-Scale, Fault-Tolerant Quantum Computer at New IBM Quantum Data Center\n",
      "Recommended for you\n",
      "Read how AI agents can help perform a range of different functions to enhance business needs\n",
      "Franchise Brokers Association is transforming sales performance with AI automation\n",
      "Explore the potential of AI agents that can effortlessly integrate into your business operations\n",
      "From AI projects to profits: How agentic AI can sustain financial returns\n",
      "Developer toolkit\n",
      "Build, learn, deploy\n",
      "Build smart, learn fast, win big and stay in control of your AI with governance.\n",
      "Start building with IBM Granite® models\n",
      "Explore AI courses, APIs, data sets and more\n",
      "Power your future, build your dev skills\n",
      "Monitor agentic AI performance with watsonx.governance\n",
      "Why IBM?\n",
      "See what the analysts have to say and start your hands-on journey.\n",
      "Read why Gartner named IBM a Leader in Data Science and ML\n",
      "Discover why Omdia ranked IBM a Leader in IDE Assistants\n",
      "Get 25% off watsonx Code Assistant™ Essentials\n",
      "See why Granite Vision tops the SLMs chart in doc understanding\n",
      "Save big on our latest special offers\n",
      "Don't miss out—explore exclusive offers, discounts and free trials. Start your IBM journey today!\n",
      "Get the latest offers\n",
      "Technology and consulting\n",
      "From\n",
      "next-generation AI\n",
      "to cutting edge\n",
      "hybrid cloud solutions\n",
      "to the deep expertise of\n",
      "IBM Consulting®\n",
      ", IBM has what it takes to help you reinvent how your business works in the age of AI.\n",
      "AI solutions\n",
      "Go from AI pilots to production with AI technologies built for business\n",
      "AI models\n",
      "Get started with cost-efficient AI models, tailored for business and optimized for scale\n",
      "Consulting\n",
      "Engage with IBM Consulting to design, build and operate high-performing businesses\n",
      "Analytics\n",
      "Support data-driven decisions for your business\n",
      "IT automation\n",
      "Discover how automation solutions increase productivity while managing costs\n",
      "Compute and servers\n",
      "Handle mission-critical workloads while maintaining security, reliability and control of your entire IT infrastructure\n",
      "Databases\n",
      "Run your applications, analytics and generative AI with databases on any cloud\n",
      "Security and identity\n",
      "Secure hybrid cloud and AI with data and identity-centric cybersecurity solutions\n",
      "Inside IBM\n",
      "Our company\n",
      "Explore IBM history and culture of putting technology to work in the real world.\n",
      "About IBM\n",
      "Our history\n",
      "Our innovations\n",
      "Visit the IBM lab, and see what's in store for the future of computing.\n",
      "IBM Research\n",
      "Quantum computing\n",
      "Our people\n",
      "See what it takes to become an IBMer, or build your skills with our educational courses.\n",
      "Become an IBMer\n",
      "Start learning\n"
     ]
    }
   ],
   "source": [
    "# Let's try one out. Change the website and add print statements to follow along.\n",
    "\n",
    "ibm = Website(\"https://www.ibm.com\")\n",
    "print(ibm.title)\n",
    "print(ibm.text)"
   ]
  },
  {
   "cell_type": "markdown",
   "id": "6a478a0c-2c53-48ff-869c-4d08199931e1",
   "metadata": {},
   "source": [
    "## Types of prompts\n",
    "\n",
    "You may know this already - but if not, you will get very familiar with it!\n",
    "\n",
    "Models like GPT4o have been trained to receive instructions in a particular way.\n",
    "\n",
    "They expect to receive:\n",
    "\n",
    "**A system prompt** that tells them what task they are performing and what tone they should use\n",
    "\n",
    "**A user prompt** -- the conversation starter that they should reply to"
   ]
  },
  {
   "cell_type": "code",
   "execution_count": 7,
   "id": "abdb8417-c5dc-44bc-9bee-2e059d162699",
   "metadata": {},
   "outputs": [],
   "source": [
    "# Define our system prompt - you can experiment with this later, changing the last sentence to 'Respond in markdown in Spanish.\"\n",
    "\n",
    "system_prompt = \"You are an assistant that analyzes the contents of a website \\\n",
    "and provides a short summary, ignoring text that might be navigation related. \\\n",
    "Respond in markdown.\""
   ]
  },
  {
   "cell_type": "code",
   "execution_count": 8,
   "id": "f0275b1b-7cfe-4f9d-abfa-7650d378da0c",
   "metadata": {},
   "outputs": [],
   "source": [
    "# A function that writes a User Prompt that asks for summaries of websites:\n",
    "\n",
    "def user_prompt_for(website):\n",
    "    user_prompt = f\"You are looking at a website titled {website.title}\"\n",
    "    user_prompt += \"\\nThe contents of this website is as follows; \\\n",
    "please provide a short summary of this website in markdown. \\\n",
    "If it includes news or announcements, then summarize these too.\\n\\n\"\n",
    "    user_prompt += website.text\n",
    "    return user_prompt"
   ]
  },
  {
   "cell_type": "code",
   "execution_count": 9,
   "id": "26448ec4-5c00-4204-baec-7df91d11ff2e",
   "metadata": {},
   "outputs": [
    {
     "name": "stdout",
     "output_type": "stream",
     "text": [
      "You are looking at a website titled IBM\n",
      "The contents of this website is as follows; please provide a short summary of this website in markdown. If it includes news or announcements, then summarize these too.\n",
      "\n",
      "Put AI to work today\n",
      "Automate real workflows with prebuilt agents for sales and procurement or build your own with our new no-code tools and capabilities\n",
      "Explore what’s new\n",
      "Learn about AI agents\n",
      "Latest news\n",
      "Deutsche Telekom Selects IBM Concert to Accelerate IT Processes with AI-Powered Automation\n",
      "Parsons Corporation is Ready Now to Build America’s Brand New, State Of-The-Art Air Traffic Control System\n",
      "IBM and RIKEN Unveil First IBM Quantum System Two Outside of the U.S.\n",
      "IBM Introduces Industry-First Software to Unify Agentic Governance and Security\n",
      "IBM Study: Profit-Driven CMOs See AI as Growth Driver, but Operational Hurdles Slow Them Down\n",
      "The All England Lawn Tennis Club and IBM Launch New AI Features for Real-Time Wimbledon Fan Engagement\n",
      "IBM Study: Businesses View AI Agents as Essential, Not Just Experimental\n",
      "IBM Sets the Course to Build World's First Large-Scale, Fault-Tolerant Quantum Computer at New IBM Quantum Data Center\n",
      "Recommended for you\n",
      "Read how AI agents can help perform a range of different functions to enhance business needs\n",
      "Franchise Brokers Association is transforming sales performance with AI automation\n",
      "Explore the potential of AI agents that can effortlessly integrate into your business operations\n",
      "From AI projects to profits: How agentic AI can sustain financial returns\n",
      "Developer toolkit\n",
      "Build, learn, deploy\n",
      "Build smart, learn fast, win big and stay in control of your AI with governance.\n",
      "Start building with IBM Granite® models\n",
      "Explore AI courses, APIs, data sets and more\n",
      "Power your future, build your dev skills\n",
      "Monitor agentic AI performance with watsonx.governance\n",
      "Why IBM?\n",
      "See what the analysts have to say and start your hands-on journey.\n",
      "Read why Gartner named IBM a Leader in Data Science and ML\n",
      "Discover why Omdia ranked IBM a Leader in IDE Assistants\n",
      "Get 25% off watsonx Code Assistant™ Essentials\n",
      "See why Granite Vision tops the SLMs chart in doc understanding\n",
      "Save big on our latest special offers\n",
      "Don't miss out—explore exclusive offers, discounts and free trials. Start your IBM journey today!\n",
      "Get the latest offers\n",
      "Technology and consulting\n",
      "From\n",
      "next-generation AI\n",
      "to cutting edge\n",
      "hybrid cloud solutions\n",
      "to the deep expertise of\n",
      "IBM Consulting®\n",
      ", IBM has what it takes to help you reinvent how your business works in the age of AI.\n",
      "AI solutions\n",
      "Go from AI pilots to production with AI technologies built for business\n",
      "AI models\n",
      "Get started with cost-efficient AI models, tailored for business and optimized for scale\n",
      "Consulting\n",
      "Engage with IBM Consulting to design, build and operate high-performing businesses\n",
      "Analytics\n",
      "Support data-driven decisions for your business\n",
      "IT automation\n",
      "Discover how automation solutions increase productivity while managing costs\n",
      "Compute and servers\n",
      "Handle mission-critical workloads while maintaining security, reliability and control of your entire IT infrastructure\n",
      "Databases\n",
      "Run your applications, analytics and generative AI with databases on any cloud\n",
      "Security and identity\n",
      "Secure hybrid cloud and AI with data and identity-centric cybersecurity solutions\n",
      "Inside IBM\n",
      "Our company\n",
      "Explore IBM history and culture of putting technology to work in the real world.\n",
      "About IBM\n",
      "Our history\n",
      "Our innovations\n",
      "Visit the IBM lab, and see what's in store for the future of computing.\n",
      "IBM Research\n",
      "Quantum computing\n",
      "Our people\n",
      "See what it takes to become an IBMer, or build your skills with our educational courses.\n",
      "Become an IBMer\n",
      "Start learning\n"
     ]
    }
   ],
   "source": [
    "print(user_prompt_for(ibm))"
   ]
  },
  {
   "cell_type": "markdown",
   "id": "ea211b5f-28e1-4a86-8e52-c0b7677cadcc",
   "metadata": {},
   "source": [
    "## Messages\n",
    "\n",
    "The API from OpenAI expects to receive messages in a particular structure.\n",
    "Many of the other APIs share this structure:\n",
    "\n",
    "```python\n",
    "[\n",
    "    {\"role\": \"system\", \"content\": \"system message goes here\"},\n",
    "    {\"role\": \"user\", \"content\": \"user message goes here\"}\n",
    "]\n",
    "```\n",
    "To give you a preview, the next 2 cells make a rather simple call - we won't stretch the mighty GPT (yet!)"
   ]
  },
  {
   "cell_type": "code",
   "execution_count": 10,
   "id": "f25dcd35-0cd0-4235-9f64-ac37ed9eaaa5",
   "metadata": {},
   "outputs": [],
   "source": [
    "messages = [\n",
    "    {\"role\": \"system\", \"content\": \"You are a snarky assistant\"},\n",
    "    {\"role\": \"user\", \"content\": \"What is 2 + 2?\"}\n",
    "]"
   ]
  },
  {
   "cell_type": "code",
   "execution_count": 11,
   "id": "21ed95c5-7001-47de-a36d-1d6673b403ce",
   "metadata": {},
   "outputs": [
    {
     "name": "stdout",
     "output_type": "stream",
     "text": [
      "Oh, let me put on my thinking cap! It’s a tough one... but I think the answer is 4. Shocking, right?\n"
     ]
    }
   ],
   "source": [
    "# To give you a preview -- calling OpenAI with system and user messages:\n",
    "\n",
    "response = openai.chat.completions.create(model=\"gpt-4o-mini\", messages=messages)\n",
    "print(response.choices[0].message.content)"
   ]
  },
  {
   "cell_type": "markdown",
   "id": "d06e8d78-ce4c-4b05-aa8e-17050c82bb47",
   "metadata": {},
   "source": [
    "## And now let's build useful messages for GPT-4o-mini, using a function"
   ]
  },
  {
   "cell_type": "code",
   "execution_count": 12,
   "id": "0134dfa4-8299-48b5-b444-f2a8c3403c88",
   "metadata": {},
   "outputs": [],
   "source": [
    "# See how this function creates exactly the format above\n",
    "\n",
    "def messages_for(website):\n",
    "    return [\n",
    "        {\"role\": \"system\", \"content\": system_prompt},\n",
    "        {\"role\": \"user\", \"content\": user_prompt_for(website)}\n",
    "    ]"
   ]
  },
  {
   "cell_type": "code",
   "execution_count": 13,
   "id": "36478464-39ee-485c-9f3f-6a4e458dbc9c",
   "metadata": {},
   "outputs": [
    {
     "data": {
      "text/plain": [
       "[{'role': 'system',\n",
       "  'content': 'You are an assistant that analyzes the contents of a website and provides a short summary, ignoring text that might be navigation related. Respond in markdown.'},\n",
       " {'role': 'user',\n",
       "  'content': \"You are looking at a website titled IBM\\nThe contents of this website is as follows; please provide a short summary of this website in markdown. If it includes news or announcements, then summarize these too.\\n\\nPut AI to work today\\nAutomate real workflows with prebuilt agents for sales and procurement or build your own with our new no-code tools and capabilities\\nExplore what’s new\\nLearn about AI agents\\nLatest news\\nDeutsche Telekom Selects IBM Concert to Accelerate IT Processes with AI-Powered Automation\\nParsons Corporation is Ready Now to Build America’s Brand New, State Of-The-Art Air Traffic Control System\\nIBM and RIKEN Unveil First IBM Quantum System Two Outside of the U.S.\\nIBM Introduces Industry-First Software to Unify Agentic Governance and Security\\nIBM Study: Profit-Driven CMOs See AI as Growth Driver, but Operational Hurdles Slow Them Down\\nThe All England Lawn Tennis Club and IBM Launch New AI Features for Real-Time Wimbledon Fan Engagement\\nIBM Study: Businesses View AI Agents as Essential, Not Just Experimental\\nIBM Sets the Course to Build World's First Large-Scale, Fault-Tolerant Quantum Computer at New IBM Quantum Data Center\\nRecommended for you\\nRead how AI agents can help perform a range of different functions to enhance business needs\\nFranchise Brokers Association is transforming sales performance with AI automation\\nExplore the potential of AI agents that can effortlessly integrate into your business operations\\nFrom AI projects to profits: How agentic AI can sustain financial returns\\nDeveloper toolkit\\nBuild, learn, deploy\\nBuild smart, learn fast, win big and stay in control of your AI with governance.\\nStart building with IBM Granite® models\\nExplore AI courses, APIs, data sets and more\\nPower your future, build your dev skills\\nMonitor agentic AI performance with watsonx.governance\\nWhy IBM?\\nSee what the analysts have to say and start your hands-on journey.\\nRead why Gartner named IBM a Leader in Data Science and ML\\nDiscover why Omdia ranked IBM a Leader in IDE Assistants\\nGet 25% off watsonx Code Assistant™ Essentials\\nSee why Granite Vision tops the SLMs chart in doc understanding\\nSave big on our latest special offers\\nDon't miss out—explore exclusive offers, discounts and free trials. Start your IBM journey today!\\nGet the latest offers\\nTechnology and consulting\\nFrom\\nnext-generation AI\\nto cutting edge\\nhybrid cloud solutions\\nto the deep expertise of\\nIBM Consulting®\\n, IBM has what it takes to help you reinvent how your business works in the age of AI.\\nAI solutions\\nGo from AI pilots to production with AI technologies built for business\\nAI models\\nGet started with cost-efficient AI models, tailored for business and optimized for scale\\nConsulting\\nEngage with IBM Consulting to design, build and operate high-performing businesses\\nAnalytics\\nSupport data-driven decisions for your business\\nIT automation\\nDiscover how automation solutions increase productivity while managing costs\\nCompute and servers\\nHandle mission-critical workloads while maintaining security, reliability and control of your entire IT infrastructure\\nDatabases\\nRun your applications, analytics and generative AI with databases on any cloud\\nSecurity and identity\\nSecure hybrid cloud and AI with data and identity-centric cybersecurity solutions\\nInside IBM\\nOur company\\nExplore IBM history and culture of putting technology to work in the real world.\\nAbout IBM\\nOur history\\nOur innovations\\nVisit the IBM lab, and see what's in store for the future of\\xa0computing.\\nIBM Research\\nQuantum computing\\nOur people\\nSee what it takes to become an IBMer, or build your skills with our educational courses.\\nBecome an IBMer\\nStart learning\"}]"
      ]
     },
     "execution_count": 13,
     "metadata": {},
     "output_type": "execute_result"
    }
   ],
   "source": [
    "# Try this out, and then try for a few more websites\n",
    "\n",
    "messages_for(ibm)"
   ]
  },
  {
   "cell_type": "markdown",
   "id": "16f49d46-bf55-4c3e-928f-68fc0bf715b0",
   "metadata": {},
   "source": [
    "## Time to bring it together - the API for OpenAI is very simple!"
   ]
  },
  {
   "cell_type": "code",
   "execution_count": 14,
   "id": "905b9919-aba7-45b5-ae65-81b3d1d78e34",
   "metadata": {},
   "outputs": [],
   "source": [
    "# And now: call the OpenAI API. You will get very familiar with this!\n",
    "\n",
    "def summarize(url):\n",
    "    website = Website(url)\n",
    "    response = openai.chat.completions.create(\n",
    "        model = \"gpt-4o-mini\",\n",
    "        messages = messages_for(website)\n",
    "    )\n",
    "    return response.choices[0].message.content"
   ]
  },
  {
   "cell_type": "code",
   "execution_count": 15,
   "id": "05e38d41-dfa4-4b20-9c96-c46ea75d9fb5",
   "metadata": {},
   "outputs": [
    {
     "data": {
      "text/plain": [
       "'# Summary of Edward Donner\\'s Website\\n\\nEdward Donner is a software developer and AI enthusiast, currently serving as the co-founder and CTO of Nebula.io, which focuses on utilizing AI to enhance talent discovery and management. He has a background as the founder of an AI startup named untapt, acquired in 2021. Additionally, Ed has interests in DJing, electronic music production, and engaging with tech content on Hacker News.\\n\\n## Key Features:\\n\\n- **Connect Four**: An interactive platform for engaging LLMs (Language Learning Models) in strategic challenges.\\n- **Outsmart**: An arena for LLMs to compete in diplomacy and strategy-oriented tasks.\\n\\n## Recent Announcements:\\n\\n- **May 28, 2025**: \"Connecting my courses – become an LLM expert and leader\"\\n- **May 18, 2025**: \"2025 AI Executive Briefing\"\\n- **April 21, 2025**: \"The Complete Agentic AI Engineering Course\"\\n- **January 23, 2025**: \"LLM Workshop – Hands-on with Agents – resources\"\\n\\nThe website encourages networking and engagement with Ed through various social media platforms and subscription options.'"
      ]
     },
     "execution_count": 15,
     "metadata": {},
     "output_type": "execute_result"
    }
   ],
   "source": [
    "summarize(\"https://edwarddonner.com\")"
   ]
  },
  {
   "cell_type": "code",
   "execution_count": 16,
   "id": "05c0d3eb",
   "metadata": {},
   "outputs": [
    {
     "data": {
      "text/plain": [
       "\"# MeCooks Blog Summary\\n\\nMeCooks is a culinary blog focused on sharing a variety of recipes and cooking ideas, primarily aimed at home cooks who prepare meals for family and friends. The site features a wide range of recipes categorized by dietary preferences (e.g., gluten-free, lactose-free, vegan) and meal types (e.g., breakfast, lunch, dinner, desserts).\\n\\n### Featured Recipes:\\n- **Ice Cream Cake with Strawberries and Cookie Cream** (Desserts)\\n- **Baked Young Cabbage** (Lunch/Dinner)\\n- **Green Asparagus Risotto** (Gluten-Free, Meat-Free)\\n- **Raspberry Land Cake** (Cakes & Desserts)\\n- **Pasta Salad with Ham and Vegetables** (Salads)\\n\\nThe blog also includes a section for seasonal recipes tied to specific occasions, such as Christmas and New Year's Eve.\\n\\n### Community Engagement:\\nThe blog encourages interaction through comments on various recipes, where readers share their experiences and ask questions, fostering a community among cooking enthusiasts.\\n\\nOverall, MeCooks Blog serves as a valuable resource for home cooks looking for diverse, family-friendly recipes.\""
      ]
     },
     "execution_count": 16,
     "metadata": {},
     "output_type": "execute_result"
    }
   ],
   "source": [
    "summarize(\"https://mecooks.com\")"
   ]
  },
  {
   "cell_type": "code",
   "execution_count": 17,
   "id": "3d926d59-450e-4609-92ba-2d6f244f1342",
   "metadata": {},
   "outputs": [],
   "source": [
    "# A function to display this nicely in the Jupyter output, using markdown\n",
    "\n",
    "def display_summary(url):\n",
    "    summary = summarize(url)\n",
    "    display(Markdown(summary))"
   ]
  },
  {
   "cell_type": "code",
   "execution_count": 18,
   "id": "3018853a-445f-41ff-9560-d925d1774b2f",
   "metadata": {},
   "outputs": [
    {
     "data": {
      "text/markdown": [
       "# Summary of Edward Donner's Website\n",
       "\n",
       "The website of Edward Donner features his interests and professional background in coding, LLMs (Large Language Models), and electronic music. Edward is the co-founder and CTO of Nebula.io, which focuses on using AI to help individuals discover their potential and manage talent through an innovative platform. He previously founded the AI startup untapt, which was acquired in 2021.\n",
       "\n",
       "## Recent Announcements and Courses:\n",
       "- **May 28, 2025:** Launch of a new course aimed at becoming an expert and leader in LLMs.\n",
       "- **May 18, 2025:** Announcement of a 2025 AI Executive Briefing.\n",
       "- **April 21, 2025:** Introduction of the Complete Agentic AI Engineering Course.\n",
       "- **January 23, 2025:** LLM Workshop offering hands-on experience with resources related to agents.\n",
       "\n",
       "Feel free to reach out to Edward through the provided contact details or follow him on social media channels."
      ],
      "text/plain": [
       "<IPython.core.display.Markdown object>"
      ]
     },
     "metadata": {},
     "output_type": "display_data"
    }
   ],
   "source": [
    "display_summary(\"https://edwarddonner.com\")"
   ]
  },
  {
   "cell_type": "markdown",
   "id": "b3bcf6f4-adce-45e9-97ad-d9a5d7a3a624",
   "metadata": {},
   "source": [
    "# Let's try more websites\n",
    "\n",
    "Note that this will only work on websites that can be scraped using this simplistic approach.\n",
    "\n",
    "Websites that are rendered with Javascript, like React apps, won't show up. See the community-contributions folder for a Selenium implementation that gets around this. You'll need to read up on installing Selenium (ask ChatGPT!)\n",
    "\n",
    "Also Websites protected with CloudFront (and similar) may give 403 errors - many thanks Andy J for pointing this out.\n",
    "\n",
    "But many websites will work just fine!"
   ]
  },
  {
   "cell_type": "code",
   "execution_count": 19,
   "id": "45d83403-a24c-44b5-84ac-961449b4008f",
   "metadata": {},
   "outputs": [
    {
     "data": {
      "text/markdown": [
       "# CNN Website Summary\n",
       "\n",
       "CNN is a major news outlet providing breaking news, analysis, and a variety of multimedia content. The website covers a wide range of topics, including national and international news, politics, business, health, entertainment, sports, science, and climate.\n",
       "\n",
       "---\n",
       "\n",
       "## Key News Updates:\n",
       "1. **Gaza Ceasefire**: A ceasefire proposal in Gaza is reportedly closer than it has been in months.\n",
       "   \n",
       "2. **Flooding in Texas**: At least 27 people have died due to severe flooding in Texas, where over 25 children are missing after a Camp Mystic was affected by rising waters.\n",
       "\n",
       "3. **Natural Disasters**: Japan is bracing for more earthquakes, while reports indicate a significant impact of recent floods in the US.\n",
       "\n",
       "4. **Antisemitic Attacks in Australia**: There have been multiple incidents including the storming of a restaurant and the arson of a synagogue.\n",
       "\n",
       "5. **Celebrity News**: Julian McMahon, known for his roles in *Fantastic Four* and *Nip/Tuck*, has died at age 56.\n",
       "\n",
       "6. **Politics**: Donald Trump has made headlines with his latest agenda bill and related political maneuverings, framing issues pertaining to immigration and economic reform.\n",
       "\n",
       "7. **Health and Wellness**: New research highlights the health risks associated with processed meat consumption.\n",
       "\n",
       "---\n",
       "\n",
       "The CNN website also provides live updates, videos, and galleries related to current events, while categorizing news content for easy navigation across various segments."
      ],
      "text/plain": [
       "<IPython.core.display.Markdown object>"
      ]
     },
     "metadata": {},
     "output_type": "display_data"
    }
   ],
   "source": [
    "display_summary(\"https://cnn.com\")"
   ]
  },
  {
   "cell_type": "code",
   "execution_count": 20,
   "id": "75e9fd40-b354-4341-991e-863ef2e59db7",
   "metadata": {},
   "outputs": [
    {
     "data": {
      "text/markdown": [
       "# Summary of Anthropic Website\n",
       "\n",
       "Anthropic focuses on developing advanced AI models, particularly the Claude model family, which includes the latest Claude Opus 4 and Claude Sonnet 4. Their AI systems are designed with an emphasis on safety and human benefit, advocating for responsible AI development through research and policy initiatives.\n",
       "\n",
       "## Key Features:\n",
       "- **Claude Models**: \n",
       "  - **Claude Opus 4**: Described as the most intelligent AI model available, capable of handling extensive tasks.\n",
       "  - **Claude Sonnet 4**: Another powerful model that enhances coding and AI agent functionality.\n",
       "\n",
       "- **API and SDKs**: Tools are provided for developers to build applications powered by Claude, facilitating a variety of uses including customer support and coding.\n",
       "\n",
       "- **Research and Insights**: The site offers insights into AI safety, societal impacts, and advancements in AI technologies. They stress the importance of studying the implications of AI on future societal structures.\n",
       "\n",
       "- **Responsible Scaling Policy**: Emphasizes their commitment to safe AI deployment and scaling practices.\n",
       "\n",
       "- **Anthropic Academy**: A resource for learning to build applications with Claude, fostering a community and knowledge sharing.\n",
       "\n",
       "## Recent Announcements:\n",
       "- **ISO 42001 Certification**: Announcement of their certification indicating a commitment to quality and standards in their AI practices.\n",
       "\n",
       "The overarching goal of Anthropic is to innovate in AI while ensuring that developments are beneficial and safe for humanity's long-term well-being."
      ],
      "text/plain": [
       "<IPython.core.display.Markdown object>"
      ]
     },
     "metadata": {},
     "output_type": "display_data"
    }
   ],
   "source": [
    "display_summary(\"https://anthropic.com\")"
   ]
  },
  {
   "cell_type": "markdown",
   "id": "c951be1a-7f1b-448f-af1f-845978e47e2c",
   "metadata": {},
   "source": [
    "<table style=\"margin: 0; text-align: left;\">\n",
    "    <tr>\n",
    "        <td style=\"width: 150px; height: 150px; vertical-align: middle;\">\n",
    "            <img src=\"../business.jpg\" width=\"150\" height=\"150\" style=\"display: block;\" />\n",
    "        </td>\n",
    "        <td>\n",
    "            <h2 style=\"color:#181;\">Business applications</h2>\n",
    "            <span style=\"color:#181;\">In this exercise, you experienced calling the Cloud API of a Frontier Model (a leading model at the frontier of AI) for the first time. We will be using APIs like OpenAI at many stages in the course, in addition to building our own LLMs.\n",
    "\n",
    "More specifically, we've applied this to Summarization - a classic Gen AI use case to make a summary. This can be applied to any business vertical - summarizing the news, summarizing financial performance, summarizing a resume in a cover letter - the applications are limitless. Consider how you could apply Summarization in your business, and try prototyping a solution.</span>\n",
    "        </td>\n",
    "    </tr>\n",
    "</table>\n",
    "\n",
    "<table style=\"margin: 0; text-align: left;\">\n",
    "    <tr>\n",
    "        <td style=\"width: 150px; height: 150px; vertical-align: middle;\">\n",
    "            <img src=\"../important.jpg\" width=\"150\" height=\"150\" style=\"display: block;\" />\n",
    "        </td>\n",
    "        <td>\n",
    "            <h2 style=\"color:#900;\">Before you continue - now try yourself</h2>\n",
    "            <span style=\"color:#900;\">Use the cell below to make your own simple commercial example. Stick with the summarization use case for now. Here's an idea: write something that will take the contents of an email, and will suggest an appropriate short subject line for the email. That's the kind of feature that might be built into a commercial email tool.</span>\n",
    "        </td>\n",
    "    </tr>\n",
    "</table>"
   ]
  },
  {
   "cell_type": "code",
   "execution_count": null,
   "id": "00743dac-0e70-45b7-879a-d7293a6f68a6",
   "metadata": {},
   "outputs": [],
   "source": [
    "# Step 1: Create your prompts\n",
    "\n",
    "system_prompt = \"something here\"\n",
    "user_prompt = \"\"\"\n",
    "    Lots of text\n",
    "    Can be pasted here\n",
    "\"\"\"\n",
    "\n",
    "# Step 2: Make the messages list\n",
    "\n",
    "messages = [] # fill this in\n",
    "\n",
    "# Step 3: Call OpenAI\n",
    "\n",
    "response =\n",
    "\n",
    "# Step 4: print the result\n",
    "\n",
    "print("
   ]
  },
  {
   "cell_type": "markdown",
   "id": "36ed9f14-b349-40e9-a42c-b367e77f8bda",
   "metadata": {},
   "source": [
    "## An extra exercise for those who enjoy web scraping\n",
    "\n",
    "You may notice that if you try `display_summary(\"https://openai.com\")` - it doesn't work! That's because OpenAI has a fancy website that uses Javascript. There are many ways around this that some of you might be familiar with. For example, Selenium is a hugely popular framework that runs a browser behind the scenes, renders the page, and allows you to query it. If you have experience with Selenium, Playwright or similar, then feel free to improve the Website class to use them. In the community-contributions folder, you'll find an example Selenium solution from a student (thank you!)"
   ]
  },
  {
   "cell_type": "markdown",
   "id": "eeab24dc-5f90-4570-b542-b0585aca3eb6",
   "metadata": {},
   "source": [
    "# Sharing your code\n",
    "\n",
    "I'd love it if you share your code afterwards so I can share it with others! You'll notice that some students have already made changes (including a Selenium implementation) which you will find in the community-contributions folder. If you'd like add your changes to that folder, submit a Pull Request with your new versions in that folder and I'll merge your changes.\n",
    "\n",
    "If you're not an expert with git (and I am not!) then GPT has given some nice instructions on how to submit a Pull Request. It's a bit of an involved process, but once you've done it once it's pretty clear. As a pro-tip: it's best if you clear the outputs of your Jupyter notebooks (Edit >> Clean outputs of all cells, and then Save) for clean notebooks.\n",
    "\n",
    "Here are good instructions courtesy of an AI friend:  \n",
    "https://chatgpt.com/share/677a9cb5-c64c-8012-99e0-e06e88afd293"
   ]
  },
  {
   "cell_type": "code",
   "execution_count": null,
   "id": "f4484fcf-8b39-4c3f-9674-37970ed71988",
   "metadata": {},
   "outputs": [],
   "source": []
  }
 ],
 "metadata": {
  "kernelspec": {
   "display_name": "llms",
   "language": "python",
   "name": "python3"
  },
  "language_info": {
   "codemirror_mode": {
    "name": "ipython",
    "version": 3
   },
   "file_extension": ".py",
   "mimetype": "text/x-python",
   "name": "python",
   "nbconvert_exporter": "python",
   "pygments_lexer": "ipython3",
   "version": "3.11.13"
  }
 },
 "nbformat": 4,
 "nbformat_minor": 5
}
